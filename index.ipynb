{
 "cells": [
  {
   "cell_type": "markdown",
   "id": "3aeab74b-73e5-4819-a3b0-77657626411d",
   "metadata": {},
   "source": [
    "## Import Libraries"
   ]
  },
  {
   "cell_type": "code",
   "execution_count": 1,
   "id": "7598865b-7049-47fc-b0ed-f6b18acef0db",
   "metadata": {},
   "outputs": [],
   "source": [
    "import os\n",
    "import pandas as pd\n",
    "from PIL import Image\n",
    "import numpy as np\n",
    "import matplotlib.pyplot as plt\n",
    "import matplotlib as mpl\n",
    "import hashlib\n",
    "from sklearn.model_selection import train_test_split\n",
    "from sklearn.metrics import accuracy_score, confusion_matrix, classification_report\n",
    "import tensorflow as tf\n",
    "from tensorflow.keras.models import Sequential\n",
    "from tensorflow.keras.utils import to_categorical\n",
    "from tensorflow.keras.layers import Input, Conv2D, MaxPooling2D, Flatten, Dense, Dropout\n",
    "import numpy as np\n",
    "import cv2\n",
    "import seaborn as sns\n",
    "from sklearn.metrics import confusion_matrix, ConfusionMatrixDisplay\n",
    "from flask import Flask, render_template, request, jsonify, send_from_directory\n",
    "from keras.models import load_model\n",
    "from keras.models import save_model\n",
    "import io\n",
    "from tensorflow.keras.models import load_model\n",
    "from werkzeug.utils import secure_filename\n",
    "from threading import Thread"
   ]
  },
  {
   "cell_type": "markdown",
   "id": "3894bdf5-04a5-4016-8aeb-49ca594ea440",
   "metadata": {},
   "source": [
    "## Define paths"
   ]
  },
  {
   "cell_type": "code",
   "execution_count": 2,
   "id": "0cfa0399-13e3-4627-b85c-47a4ef2ab32f",
   "metadata": {},
   "outputs": [],
   "source": [
    "real_images_path = 'dataset/train/REAL'\n",
    "fake_images_path = 'dataset/train/FAKE'\n",
    "real_test_path = 'dataset/test/REAL'\n",
    "fake_test_path = 'dataset/test/FAKE'"
   ]
  },
  {
   "cell_type": "markdown",
   "id": "31b39691-a050-46ad-94d5-8fa34c50b57d",
   "metadata": {},
   "source": [
    "## Load Images from Folders"
   ]
  },
  {
   "cell_type": "code",
   "execution_count": 3,
   "id": "3ef99b68-a18d-431e-8386-9c234df7d684",
   "metadata": {},
   "outputs": [],
   "source": [
    "def load_images_from_folder(folder, label):\n",
    "    images = []\n",
    "    for filename in os.listdir(folder):\n",
    "        img_path = os.path.join(folder, filename)\n",
    "        try:\n",
    "            img = Image.open(img_path)\n",
    "            img = img.resize((128, 128))\n",
    "            img = np.array(img)\n",
    "            images.append([img, label])\n",
    "        except Exception as e:\n",
    "            print(f\"Error loading image {filename}: {e}\")\n",
    "    return images"
   ]
  },
  {
   "cell_type": "markdown",
   "id": "7d89eb36-10b0-4369-8572-f6683b2434aa",
   "metadata": {},
   "source": [
    "### Convert to DataFrame\n",
    "\n",
    "####  1. Train data"
   ]
  },
  {
   "cell_type": "code",
   "execution_count": null,
   "id": "59f461c6-ae11-438b-ab51-0c9759906438",
   "metadata": {},
   "outputs": [],
   "source": [
    "real_images = load_images_from_folder(real_images_path, label=0)  # Label 0 for real\n",
    "fake_images = load_images_from_folder(fake_images_path, label=1)  # Label 1 for fake\n",
    "\n",
    "# Combine fake and real\n",
    "all_images = real_images + fake_images\n",
    "\n",
    "# Convert to df\n",
    "df = pd.DataFrame(all_images, columns=['image', 'label'])\n",
    "\n",
    "print(df.head())"
   ]
  },
  {
   "cell_type": "code",
   "execution_count": null,
   "id": "f4b1ebb4-cd56-4283-afd6-55b825b6a79e",
   "metadata": {},
   "outputs": [],
   "source": [
    "df.tail(10)"
   ]
  },
  {
   "cell_type": "markdown",
   "id": "89389b6c-2bb0-446e-9871-134d3bbefd6a",
   "metadata": {},
   "source": [
    "#### 2. Test data"
   ]
  },
  {
   "cell_type": "code",
   "execution_count": null,
   "id": "ab105d03-e6cd-4874-86ca-e522ec0b8c9e",
   "metadata": {},
   "outputs": [],
   "source": [
    "real_test_images = load_images_from_folder(real_test_path, label=0)  # Label 0 for real\n",
    "fake_test_images = load_images_from_folder(fake_test_path, label=1)  # Label 1 for fake\n",
    "\n",
    "# Combine fake and real\n",
    "all_test_images = real_test_images + fake_test_images\n",
    "\n",
    "# Convert to df\n",
    "df_test = pd.DataFrame(all_test_images, columns=['image', 'label'])\n",
    "\n",
    "print(df_test.head())"
   ]
  },
  {
   "cell_type": "code",
   "execution_count": null,
   "id": "b895e1d8-54be-488a-8f7d-27da2c5a55bc",
   "metadata": {},
   "outputs": [],
   "source": [
    "df_test.tail(10)"
   ]
  },
  {
   "cell_type": "markdown",
   "id": "cfe8ae6c-1165-4c80-8ba5-de643fc2ba67",
   "metadata": {},
   "source": [
    "### Define and Use Image Display Functions\n",
    "\n",
    "Below we view what is contained in the df we created that is the images, since the images have been stretched they appear to be of low quality\n",
    "\n",
    "#### 1. Train data"
   ]
  },
  {
   "cell_type": "code",
   "execution_count": null,
   "id": "f7203942-5726-43dc-beb6-2e97ef074681",
   "metadata": {},
   "outputs": [],
   "source": [
    "def display_image(image_array):\n",
    "    plt.imshow(image_array)\n",
    "    plt.axis('off')  \n",
    "    plt.show()"
   ]
  },
  {
   "cell_type": "code",
   "execution_count": null,
   "id": "5c92d99a-5d01-42a5-a48b-678ed2cfb305",
   "metadata": {},
   "outputs": [],
   "source": [
    "display_image(df.iloc[0]['image'])"
   ]
  },
  {
   "cell_type": "markdown",
   "id": "28a55dc2-b988-4357-8498-3df571158127",
   "metadata": {},
   "source": [
    "#### 2. Test data"
   ]
  },
  {
   "cell_type": "code",
   "execution_count": null,
   "id": "5efaf9e0-45b6-4247-9850-625a6223c267",
   "metadata": {},
   "outputs": [],
   "source": [
    "# First image in the test df\n",
    "display_image(df_test.iloc[0]['image'])"
   ]
  },
  {
   "cell_type": "markdown",
   "id": "38af000f-5a0f-494d-98de-41b1e3309055",
   "metadata": {},
   "source": [
    "### Data Cleaning: Handling Duplicates, Missing Data, and Corrupted Images\n",
    "\n",
    "#### 1. Train data"
   ]
  },
  {
   "cell_type": "code",
   "execution_count": null,
   "id": "e25947a6-89c1-43d1-9d8e-c7fb5b9582bb",
   "metadata": {},
   "outputs": [],
   "source": [
    "def clean_image_data(df):\n",
    "    # Hashing\n",
    "    print(\"Removing duplicate images...\")\n",
    "    df['img_hash'] = df['image'].apply(lambda img: hashlib.md5(img.tobytes()).hexdigest())\n",
    "    df.drop_duplicates(subset='img_hash', inplace=True)\n",
    "    # Drop the hash column after removing duplicates\n",
    "    df.drop(columns=['img_hash'], inplace=True)  \n",
    "\n",
    "    # Check for missing labels\n",
    "    print(\"Checking for missing labels...\")\n",
    "    missing_labels = df['label'].isnull().sum()\n",
    "    if missing_labels > 0:\n",
    "        print(f\"Found {missing_labels} missing labels. Dropping rows with missing labels...\")\n",
    "        df.dropna(subset=['label'], inplace=True)\n",
    "\n",
    "    # Verify images are loaded correctly and not corrupted\n",
    "    print(\"Verifying image integrity...\")\n",
    "    valid_images = []\n",
    "    for i, row in df.iterrows():\n",
    "        try:\n",
    "            img = Image.fromarray(row['image'])\n",
    "            img.verify()  # Is image corrupted\n",
    "            valid_images.append(True)\n",
    "        except Exception as e:\n",
    "            print(f\"Corrupted image detected at index {i}: {e}\")\n",
    "            valid_images.append(False)\n",
    "    \n",
    "    df = df[valid_images]\n",
    "\n",
    "    # Reset index after cleaning\n",
    "    df.reset_index(drop=True, inplace=True)\n",
    "    \n",
    "    return df\n"
   ]
  },
  {
   "cell_type": "code",
   "execution_count": null,
   "id": "dcb73e50-5c23-4c08-adb7-1ecc00fb903c",
   "metadata": {},
   "outputs": [],
   "source": [
    "# Apply the cleaning function to train df\n",
    "df_cleaned = clean_image_data(df)\n",
    "\n",
    "# Display the cleaned train df\n",
    "print(\"Cleaned DataFrame:\")\n",
    "print(df_cleaned.head())\n"
   ]
  },
  {
   "cell_type": "markdown",
   "id": "aee1ffe6-aba2-4304-8fd5-22f5c8716004",
   "metadata": {},
   "source": [
    "#### 2. Test data"
   ]
  },
  {
   "cell_type": "code",
   "execution_count": null,
   "id": "29aeaf00-fb19-44b1-b9e1-64489e3330ff",
   "metadata": {},
   "outputs": [],
   "source": [
    "# Apply the cleaning function to test df\n",
    "df_test_cleaned = clean_image_data(df_test)\n",
    "\n",
    "# Display the cleaned test df\n",
    "print(\"Cleaned DataFrame:\")\n",
    "print(df_test_cleaned.head())"
   ]
  },
  {
   "cell_type": "markdown",
   "id": "c658de52-6f9f-49b1-a87a-e39135df698d",
   "metadata": {},
   "source": [
    "### EDA"
   ]
  },
  {
   "cell_type": "markdown",
   "id": "903b87e4-1942-470b-a843-6dc02aada6ee",
   "metadata": {},
   "source": [
    "#### 1. Resize and Display Images"
   ]
  },
  {
   "cell_type": "code",
   "execution_count": null,
   "id": "274e572c-2f42-4da1-9dd7-06790186b180",
   "metadata": {},
   "outputs": [],
   "source": [
    "# Get sizes of all images\n",
    "def get_image_sizes(image_list):\n",
    "    sizes = [img.shape[:2] for img, _ in image_list]\n",
    "    return sizes"
   ]
  },
  {
   "cell_type": "code",
   "execution_count": null,
   "id": "176b16b2-85d5-4841-908c-1b9d29083250",
   "metadata": {},
   "outputs": [],
   "source": [
    "sizes = get_image_sizes(all_images)\n",
    "sizes_df = pd.DataFrame(sizes, columns=['Height', 'Width'])"
   ]
  },
  {
   "cell_type": "code",
   "execution_count": null,
   "id": "5337cf5e-9ac1-49fb-9348-4b3c8b88f54e",
   "metadata": {},
   "outputs": [],
   "source": []
  }
 ],
 "metadata": {
  "kernelspec": {
   "display_name": "Python 3 (ipykernel)",
   "language": "python",
   "name": "python3"
  },
  "language_info": {
   "codemirror_mode": {
    "name": "ipython",
    "version": 3
   },
   "file_extension": ".py",
   "mimetype": "text/x-python",
   "name": "python",
   "nbconvert_exporter": "python",
   "pygments_lexer": "ipython3",
   "version": "3.8.19"
  }
 },
 "nbformat": 4,
 "nbformat_minor": 5
}
