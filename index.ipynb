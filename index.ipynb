{
 "cells": [
  {
   "cell_type": "markdown",
   "id": "3aeab74b-73e5-4819-a3b0-77657626411d",
   "metadata": {},
   "source": [
    "## Import Libraries"
   ]
  },
  {
   "cell_type": "code",
   "execution_count": 1,
   "id": "7598865b-7049-47fc-b0ed-f6b18acef0db",
   "metadata": {},
   "outputs": [],
   "source": [
    "import os\n",
    "import pandas as pd\n",
    "from PIL import Image\n",
    "import numpy as np\n",
    "import matplotlib.pyplot as plt\n",
    "import matplotlib as mpl\n",
    "import hashlib\n",
    "from sklearn.model_selection import train_test_split\n",
    "from sklearn.metrics import accuracy_score, confusion_matrix, classification_report\n",
    "import tensorflow as tf\n",
    "from tensorflow.keras.models import Sequential\n",
    "from tensorflow.keras.utils import to_categorical\n",
    "from tensorflow.keras.layers import Input, Conv2D, MaxPooling2D, Flatten, Dense, Dropout\n",
    "import numpy as np\n",
    "import cv2\n",
    "import seaborn as sns\n",
    "from sklearn.metrics import confusion_matrix, ConfusionMatrixDisplay\n",
    "from flask import Flask, render_template, request, jsonify, send_from_directory\n",
    "from keras.models import load_model\n",
    "from keras.models import save_model\n",
    "import io\n",
    "from tensorflow.keras.models import load_model\n",
    "from werkzeug.utils import secure_filename\n",
    "from threading import Thread"
   ]
  },
  {
   "cell_type": "markdown",
   "id": "3894bdf5-04a5-4016-8aeb-49ca594ea440",
   "metadata": {},
   "source": [
    "## Define paths"
   ]
  },
  {
   "cell_type": "code",
   "execution_count": 2,
   "id": "0cfa0399-13e3-4627-b85c-47a4ef2ab32f",
   "metadata": {},
   "outputs": [],
   "source": [
    "real_images_path = 'dataset/train/REAL'\n",
    "fake_images_path = 'dataset/train/FAKE'\n",
    "real_test_path = 'dataset/test/REAL'\n",
    "fake_test_path = 'dataset/test/FAKE'"
   ]
  },
  {
   "cell_type": "markdown",
   "id": "31b39691-a050-46ad-94d5-8fa34c50b57d",
   "metadata": {},
   "source": [
    "## Load Images from Folders"
   ]
  },
  {
   "cell_type": "code",
   "execution_count": 3,
   "id": "3ef99b68-a18d-431e-8386-9c234df7d684",
   "metadata": {},
   "outputs": [],
   "source": [
    "def load_images_from_folder(folder, label):\n",
    "    images = []\n",
    "    for filename in os.listdir(folder):\n",
    "        img_path = os.path.join(folder, filename)\n",
    "        try:\n",
    "            img = Image.open(img_path)\n",
    "            img = img.resize((128, 128))\n",
    "            img = np.array(img)\n",
    "            images.append([img, label])\n",
    "        except Exception as e:\n",
    "            print(f\"Error loading image {filename}: {e}\")\n",
    "    return images"
   ]
  },
  {
   "cell_type": "markdown",
   "id": "7d89eb36-10b0-4369-8572-f6683b2434aa",
   "metadata": {},
   "source": [
    "### Convert to DataFrame\n",
    "\n",
    "####  1. Train data"
   ]
  },
  {
   "cell_type": "code",
   "execution_count": 4,
   "id": "59f461c6-ae11-438b-ab51-0c9759906438",
   "metadata": {},
   "outputs": [
    {
     "name": "stdout",
     "output_type": "stream",
     "text": [
      "                                               image  label\n",
      "0  [[[174, 175, 185], [173, 173, 184], [169, 169,...      0\n",
      "1  [[[167, 179, 191], [168, 180, 192], [168, 180,...      0\n",
      "2  [[[152, 197, 104], [149, 195, 101], [143, 188,...      0\n",
      "3  [[[131, 126, 122], [130, 125, 121], [128, 123,...      0\n",
      "4  [[[37, 35, 11], [37, 35, 11], [37, 35, 11], [3...      0\n"
     ]
    }
   ],
   "source": [
    "real_images = load_images_from_folder(real_images_path, label=0)  # Label 0 for real\n",
    "fake_images = load_images_from_folder(fake_images_path, label=1)  # Label 1 for fake\n",
    "\n",
    "# Combine fake and real\n",
    "all_images = real_images + fake_images\n",
    "\n",
    "# Convert to df\n",
    "df = pd.DataFrame(all_images, columns=['image', 'label'])\n",
    "\n",
    "print(df.head())"
   ]
  },
  {
   "cell_type": "code",
   "execution_count": 5,
   "id": "f4b1ebb4-cd56-4283-afd6-55b825b6a79e",
   "metadata": {},
   "outputs": [
    {
     "data": {
      "text/html": [
       "<div>\n",
       "<style scoped>\n",
       "    .dataframe tbody tr th:only-of-type {\n",
       "        vertical-align: middle;\n",
       "    }\n",
       "\n",
       "    .dataframe tbody tr th {\n",
       "        vertical-align: top;\n",
       "    }\n",
       "\n",
       "    .dataframe thead th {\n",
       "        text-align: right;\n",
       "    }\n",
       "</style>\n",
       "<table border=\"1\" class=\"dataframe\">\n",
       "  <thead>\n",
       "    <tr style=\"text-align: right;\">\n",
       "      <th></th>\n",
       "      <th>image</th>\n",
       "      <th>label</th>\n",
       "    </tr>\n",
       "  </thead>\n",
       "  <tbody>\n",
       "    <tr>\n",
       "      <th>99990</th>\n",
       "      <td>[[[235, 233, 234], [235, 233, 234], [235, 233,...</td>\n",
       "      <td>1</td>\n",
       "    </tr>\n",
       "    <tr>\n",
       "      <th>99991</th>\n",
       "      <td>[[[17, 16, 24], [16, 15, 23], [16, 15, 22], [1...</td>\n",
       "      <td>1</td>\n",
       "    </tr>\n",
       "    <tr>\n",
       "      <th>99992</th>\n",
       "      <td>[[[51, 64, 22], [52, 64, 23], [54, 66, 25], [5...</td>\n",
       "      <td>1</td>\n",
       "    </tr>\n",
       "    <tr>\n",
       "      <th>99993</th>\n",
       "      <td>[[[114, 72, 47], [116, 74, 49], [120, 78, 53],...</td>\n",
       "      <td>1</td>\n",
       "    </tr>\n",
       "    <tr>\n",
       "      <th>99994</th>\n",
       "      <td>[[[11, 0, 15], [11, 0, 14], [11, 0, 14], [11, ...</td>\n",
       "      <td>1</td>\n",
       "    </tr>\n",
       "    <tr>\n",
       "      <th>99995</th>\n",
       "      <td>[[[0, 0, 0], [0, 0, 0], [7, 7, 5], [21, 21, 19...</td>\n",
       "      <td>1</td>\n",
       "    </tr>\n",
       "    <tr>\n",
       "      <th>99996</th>\n",
       "      <td>[[[6, 16, 0], [6, 16, 0], [6, 16, 0], [6, 16, ...</td>\n",
       "      <td>1</td>\n",
       "    </tr>\n",
       "    <tr>\n",
       "      <th>99997</th>\n",
       "      <td>[[[81, 79, 80], [81, 79, 80], [81, 79, 80], [8...</td>\n",
       "      <td>1</td>\n",
       "    </tr>\n",
       "    <tr>\n",
       "      <th>99998</th>\n",
       "      <td>[[[33, 42, 0], [35, 42, 0], [35, 42, 0], [36, ...</td>\n",
       "      <td>1</td>\n",
       "    </tr>\n",
       "    <tr>\n",
       "      <th>99999</th>\n",
       "      <td>[[[164, 162, 163], [164, 162, 163], [164, 162,...</td>\n",
       "      <td>1</td>\n",
       "    </tr>\n",
       "  </tbody>\n",
       "</table>\n",
       "</div>"
      ],
      "text/plain": [
       "                                                   image  label\n",
       "99990  [[[235, 233, 234], [235, 233, 234], [235, 233,...      1\n",
       "99991  [[[17, 16, 24], [16, 15, 23], [16, 15, 22], [1...      1\n",
       "99992  [[[51, 64, 22], [52, 64, 23], [54, 66, 25], [5...      1\n",
       "99993  [[[114, 72, 47], [116, 74, 49], [120, 78, 53],...      1\n",
       "99994  [[[11, 0, 15], [11, 0, 14], [11, 0, 14], [11, ...      1\n",
       "99995  [[[0, 0, 0], [0, 0, 0], [7, 7, 5], [21, 21, 19...      1\n",
       "99996  [[[6, 16, 0], [6, 16, 0], [6, 16, 0], [6, 16, ...      1\n",
       "99997  [[[81, 79, 80], [81, 79, 80], [81, 79, 80], [8...      1\n",
       "99998  [[[33, 42, 0], [35, 42, 0], [35, 42, 0], [36, ...      1\n",
       "99999  [[[164, 162, 163], [164, 162, 163], [164, 162,...      1"
      ]
     },
     "execution_count": 5,
     "metadata": {},
     "output_type": "execute_result"
    }
   ],
   "source": [
    "df.tail(10)"
   ]
  },
  {
   "cell_type": "code",
   "execution_count": null,
   "id": "a0b23e12-1b0a-485b-af73-5c5705f844e7",
   "metadata": {},
   "outputs": [],
   "source": []
  }
 ],
 "metadata": {
  "kernelspec": {
   "display_name": "Python 3 (ipykernel)",
   "language": "python",
   "name": "python3"
  },
  "language_info": {
   "codemirror_mode": {
    "name": "ipython",
    "version": 3
   },
   "file_extension": ".py",
   "mimetype": "text/x-python",
   "name": "python",
   "nbconvert_exporter": "python",
   "pygments_lexer": "ipython3",
   "version": "3.8.5"
  }
 },
 "nbformat": 4,
 "nbformat_minor": 5
}
